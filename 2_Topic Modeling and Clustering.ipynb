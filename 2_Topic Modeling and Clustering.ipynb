{
 "cells": [
  {
   "cell_type": "markdown",
   "id": "c6cb297f",
   "metadata": {},
   "source": [
    "# Topic Modeling & Clustering"
   ]
  },
  {
   "cell_type": "code",
   "execution_count": 1,
   "id": "68b9a8ef",
   "metadata": {},
   "outputs": [],
   "source": [
    "import pandas as pd\n",
    "import numpy as np\n",
    "import pickle"
   ]
  },
  {
   "cell_type": "code",
   "execution_count": 2,
   "id": "29e42bb9",
   "metadata": {},
   "outputs": [],
   "source": [
    "with open('grant_df_lemma.pickle','rb') as g:\n",
    "    df = pickle.load(g)"
   ]
  },
  {
   "cell_type": "code",
   "execution_count": 3,
   "id": "94bca7b1",
   "metadata": {},
   "outputs": [
    {
     "name": "stdout",
     "output_type": "stream",
     "text": [
      "df columns: \n",
      "\n",
      " Index(['grantmaker', 'grantmaker_state', 'recipient', 'recip_city',\n",
      "       'recip_state_cntry', 'subject', 'year', 'amount', 'strategy',\n",
      "       'description', 'gift_type', 'lemma', 'n_gram', 'ent'],\n",
      "      dtype='object')\n"
     ]
    }
   ],
   "source": [
    "print('df columns: \\n\\n', df.columns)"
   ]
  },
  {
   "cell_type": "code",
   "execution_count": 4,
   "id": "1c3fa5cf",
   "metadata": {},
   "outputs": [
    {
     "data": {
      "text/plain": [
       "array(['transformative', 'major'], dtype=object)"
      ]
     },
     "execution_count": 4,
     "metadata": {},
     "output_type": "execute_result"
    }
   ],
   "source": [
    "df.gift_type.unique()"
   ]
  },
  {
   "cell_type": "code",
   "execution_count": 5,
   "id": "b79d81c3",
   "metadata": {},
   "outputs": [
    {
     "name": "stdout",
     "output_type": "stream",
     "text": [
      "num major gifts =  768\n",
      "num transformational gifts =  268\n"
     ]
    }
   ],
   "source": [
    "major_idx = np.where(df.gift_type == 'major')\n",
    "print('num major gifts = ', len(major_idx[0]))\n",
    "\n",
    "transf_idx = np.where(df.gift_type == 'transformative')\n",
    "print('num transformational gifts = ', len(transf_idx[0]))"
   ]
  },
  {
   "cell_type": "markdown",
   "id": "40b7af21",
   "metadata": {},
   "source": [
    "## Topic Modeling: NMF"
   ]
  },
  {
   "cell_type": "code",
   "execution_count": 6,
   "id": "d6670336",
   "metadata": {},
   "outputs": [],
   "source": [
    "from sklearn.decomposition import NMF"
   ]
  },
  {
   "cell_type": "code",
   "execution_count": 7,
   "id": "a1a995cd",
   "metadata": {},
   "outputs": [],
   "source": [
    "with open('mtx_terms_dict.pickle','rb') as g:\n",
    "    mtx_terms_dict = pickle.load(g)"
   ]
  },
  {
   "cell_type": "code",
   "execution_count": 8,
   "id": "b391f0c3",
   "metadata": {},
   "outputs": [
    {
     "name": "stdout",
     "output_type": "stream",
     "text": [
      "tokens type:  lemma \n",
      "\n",
      "# docs:  1036\n",
      "# terms:  1460\n"
     ]
    }
   ],
   "source": [
    "dt_type = 'lemma' #choose 'lemma', 'n_gram', or 'ent'\n",
    "print('tokens type: ', dt_type, '\\n')\n",
    "\n",
    "dt, terms = mtx_terms_dict[dt_type][0], mtx_terms_dict[dt_type][1]\n",
    "print('# docs: ', dt.shape[0])\n",
    "print('# terms: ', dt.shape[1])"
   ]
  },
  {
   "cell_type": "code",
   "execution_count": 9,
   "id": "6f67d16c",
   "metadata": {},
   "outputs": [
    {
     "data": {
      "text/plain": [
       "array(['10', '12', '19', ..., 'young', 'youth', 'zone'], dtype=object)"
      ]
     },
     "execution_count": 9,
     "metadata": {},
     "output_type": "execute_result"
    }
   ],
   "source": [
    "terms"
   ]
  },
  {
   "cell_type": "code",
   "execution_count": 10,
   "id": "d423330b",
   "metadata": {},
   "outputs": [
    {
     "name": "stdout",
     "output_type": "stream",
     "text": [
      "dt rows =  768\n"
     ]
    }
   ],
   "source": [
    "#### HYPERPARAM - IDX_TYPE ####\n",
    "\n",
    "idx_type = major_idx #choose major_idx, transf_idx, or None\n",
    "\n",
    "if idx_type != None:\n",
    "    dt = dt[idx_type] \n",
    "\n",
    "print('dt rows = ', dt.shape[0])"
   ]
  },
  {
   "cell_type": "code",
   "execution_count": 11,
   "id": "c91e5392",
   "metadata": {},
   "outputs": [
    {
     "name": "stdout",
     "output_type": "stream",
     "text": [
      "# topics:  10\n"
     ]
    },
    {
     "name": "stderr",
     "output_type": "stream",
     "text": [
      "/Users/oliviaoffutt/opt/anaconda3/lib/python3.9/site-packages/sklearn/decomposition/_nmf.py:1692: ConvergenceWarning: Maximum number of iterations 200 reached. Increase it to improve convergence.\n",
      "  warnings.warn(\n"
     ]
    }
   ],
   "source": [
    "nmf = NMF(10) #choose num topics\n",
    "W = nmf.fit_transform(dt)\n",
    "H = nmf.components_\n",
    "print('# topics: ', H.shape[0])"
   ]
  },
  {
   "cell_type": "code",
   "execution_count": 12,
   "id": "37315a03",
   "metadata": {},
   "outputs": [
    {
     "data": {
      "text/plain": [
       "(768, 10)"
      ]
     },
     "execution_count": 12,
     "metadata": {},
     "output_type": "execute_result"
    }
   ],
   "source": [
    "W.shape"
   ]
  },
  {
   "cell_type": "code",
   "execution_count": 13,
   "id": "3ed20cd7",
   "metadata": {},
   "outputs": [],
   "source": [
    "#get top terms for each topic w/ pct contribution to topic\n",
    "def display_topics(n_terms, nmf=nmf, terms=terms):\n",
    "    for topic, vec in enumerate(nmf.components_):\n",
    "        total = vec.sum()\n",
    "        largest = vec.argsort()[::-1]\n",
    "        print('\\nTopic %02d' % topic)\n",
    "        for i in range(0, n_terms):\n",
    "            print(' %s (%2.2f)' % (terms[largest[i]],\n",
    "                                  vec[largest[i]]*100.0/total))"
   ]
  },
  {
   "cell_type": "code",
   "execution_count": 14,
   "id": "42eeb4f1",
   "metadata": {},
   "outputs": [
    {
     "name": "stdout",
     "output_type": "stream",
     "text": [
      "\n",
      "Topic 00\n",
      " general (50.14)\n",
      " support (36.97)\n",
      " capacity (1.35)\n",
      " building (1.32)\n",
      "\n",
      "Topic 01\n",
      " purchase (29.46)\n",
      " equipment (28.48)\n",
      " computer (9.89)\n",
      " furnishing (5.37)\n",
      "\n",
      "Topic 02\n",
      " program (16.42)\n",
      " college (12.05)\n",
      " success (4.75)\n",
      " bound (3.63)\n",
      "\n",
      "Topic 03\n",
      " operating (52.77)\n",
      " general (7.83)\n",
      " support (4.04)\n",
      " give (3.44)\n",
      "\n",
      "Topic 04\n",
      " operation (26.59)\n",
      " organization (21.40)\n",
      " general (12.94)\n",
      " operations (2.58)\n",
      "\n",
      "Topic 05\n",
      " scholarship (34.19)\n",
      " student (7.85)\n",
      " fund (7.07)\n",
      " award (2.85)\n",
      "\n",
      "Topic 06\n",
      " matching (17.96)\n",
      " gift (17.13)\n",
      " discretionary (16.92)\n",
      " trustee (16.66)\n",
      "\n",
      "Topic 07\n",
      " education (20.03)\n",
      " youth (3.84)\n",
      " music (2.98)\n",
      " chicago (2.84)\n",
      "\n",
      "Topic 08\n",
      " grant (19.89)\n",
      " unrestricted (18.25)\n",
      " give (12.77)\n",
      " honorary (11.84)\n",
      "\n",
      "Topic 09\n",
      " school (3.78)\n",
      " student (2.20)\n",
      " high (1.68)\n",
      " support (1.22)\n"
     ]
    }
   ],
   "source": [
    "display_topics(4,nmf,terms) #choose numnber of terms to see"
   ]
  },
  {
   "cell_type": "code",
   "execution_count": 15,
   "id": "0d7d77cc",
   "metadata": {},
   "outputs": [],
   "source": [
    "import random"
   ]
  },
  {
   "cell_type": "code",
   "execution_count": 16,
   "id": "ba801b86",
   "metadata": {},
   "outputs": [
    {
     "name": "stdout",
     "output_type": "stream",
     "text": [
      "[0.00000000e+00 7.82343265e-04 0.00000000e+00 2.36160767e-03\n",
      " 3.31464202e-05 0.00000000e+00 0.00000000e+00 3.38641184e-02\n",
      " 0.00000000e+00 2.25012914e-02]\n",
      "Early Childhood Educator Workforce Solutions\n"
     ]
    }
   ],
   "source": [
    "#topic tester\n",
    "df_i = random.choice(idx_type[0])\n",
    "li = list(idx_type[0])\n",
    "W_i = li.index(df_i)\n",
    "print(W[W_i])\n",
    "print(df['description'][df_i])"
   ]
  },
  {
   "cell_type": "code",
   "execution_count": 17,
   "id": "e544bb14",
   "metadata": {},
   "outputs": [],
   "source": [
    "# define the categories\n",
    "topics_dict = {0: 'School Programs', 1: 'General Support', 2: 'Arts', 3: 'NY/Boston', 4: 'After School Programs',\n",
    "             5: 'Early Education', 6: 'Scholarship', 7: 'College & Career Success', 8: 'Health/Foster', 9: 'Job/Career Training'}\n"
   ]
  },
  {
   "cell_type": "code",
   "execution_count": 18,
   "id": "cafdc6da",
   "metadata": {},
   "outputs": [],
   "source": [
    "# For each document, get the index for the highest topic coefficient\n",
    "top_topic_idx = []\n",
    "\n",
    "for doc in W:\n",
    "    top_topic_idx.append(np.argmax(doc))"
   ]
  },
  {
   "cell_type": "code",
   "execution_count": 19,
   "id": "4a6e9b43",
   "metadata": {},
   "outputs": [
    {
     "data": {
      "text/plain": [
       "{0: 'School Programs',\n",
       " 1: 'General Support',\n",
       " 2: 'Arts',\n",
       " 3: 'NY/Boston',\n",
       " 4: 'After School Programs',\n",
       " 5: 'Early Education',\n",
       " 6: 'Scholarship',\n",
       " 7: 'College & Career Success',\n",
       " 8: 'Health/Foster',\n",
       " 9: 'Job/Career Training'}"
      ]
     },
     "execution_count": 19,
     "metadata": {},
     "output_type": "execute_result"
    }
   ],
   "source": [
    "topics_dict"
   ]
  },
  {
   "cell_type": "code",
   "execution_count": 20,
   "id": "f98d4498",
   "metadata": {},
   "outputs": [],
   "source": [
    "# Use the index to map to the actual topic in `topics`\n",
    "\n",
    "doc_topics = []\n",
    "\n",
    "for i in top_topic_idx:\n",
    "    doc_topics.append(topics_dict[i])"
   ]
  },
  {
   "cell_type": "code",
   "execution_count": 21,
   "id": "0326d2b9",
   "metadata": {},
   "outputs": [
    {
     "name": "stdout",
     "output_type": "stream",
     "text": [
      "Health/Foster\n",
      "This unrestricted grant is given as general operating support\n"
     ]
    }
   ],
   "source": [
    "#topic tester pt 2\n",
    "df_i = random.choice(idx_type[0]) #find index of df\n",
    "li = list(idx_type[0]) \n",
    "W_i = li.index(df_i) #find index of doc-topic matrix\n",
    "print(doc_topics[W_i])\n",
    "print(df['description'][df_i])"
   ]
  },
  {
   "cell_type": "markdown",
   "id": "fbe42e21",
   "metadata": {},
   "source": [
    "### *Visualizing*"
   ]
  },
  {
   "cell_type": "code",
   "execution_count": 22,
   "id": "8d4039d0",
   "metadata": {},
   "outputs": [],
   "source": [
    "import seaborn as sns\n",
    "import matplotlib.pyplot as plt"
   ]
  },
  {
   "cell_type": "code",
   "execution_count": 23,
   "id": "3d225811",
   "metadata": {},
   "outputs": [
    {
     "data": {
      "text/plain": [
       "768"
      ]
     },
     "execution_count": 23,
     "metadata": {},
     "output_type": "execute_result"
    }
   ],
   "source": [
    "len(doc_topics)"
   ]
  },
  {
   "cell_type": "code",
   "execution_count": 24,
   "id": "292595ed",
   "metadata": {},
   "outputs": [
    {
     "data": {
      "text/plain": [
       "(768, 10)"
      ]
     },
     "execution_count": 24,
     "metadata": {},
     "output_type": "execute_result"
    }
   ],
   "source": [
    "W.shape"
   ]
  },
  {
   "cell_type": "code",
   "execution_count": 25,
   "id": "94fb4a58",
   "metadata": {},
   "outputs": [
    {
     "data": {
      "text/plain": [
       "Index(['grantmaker', 'grantmaker_state', 'recipient', 'recip_city',\n",
       "       'recip_state_cntry', 'subject', 'year', 'amount', 'strategy',\n",
       "       'description', 'gift_type', 'lemma', 'n_gram', 'ent'],\n",
       "      dtype='object')"
      ]
     },
     "execution_count": 25,
     "metadata": {},
     "output_type": "execute_result"
    }
   ],
   "source": [
    "df.columns"
   ]
  },
  {
   "cell_type": "code",
   "execution_count": 26,
   "id": "1428c1bc",
   "metadata": {},
   "outputs": [
    {
     "data": {
      "text/plain": [
       "array([[4.14092930e-02, 0.00000000e+00, 9.93000383e-02, ...,\n",
       "        0.00000000e+00, 0.00000000e+00, 2.24144135e-01],\n",
       "       [0.00000000e+00, 4.45636685e-04, 1.65695790e-02, ...,\n",
       "        3.61307330e-03, 4.69207955e-02, 2.57323461e-02],\n",
       "       [0.00000000e+00, 0.00000000e+00, 0.00000000e+00, ...,\n",
       "        0.00000000e+00, 0.00000000e+00, 0.00000000e+00],\n",
       "       ...,\n",
       "       [0.00000000e+00, 0.00000000e+00, 2.42050220e-01, ...,\n",
       "        0.00000000e+00, 0.00000000e+00, 0.00000000e+00],\n",
       "       [3.05468588e-01, 0.00000000e+00, 0.00000000e+00, ...,\n",
       "        0.00000000e+00, 0.00000000e+00, 0.00000000e+00],\n",
       "       [0.00000000e+00, 0.00000000e+00, 0.00000000e+00, ...,\n",
       "        6.22013287e-01, 0.00000000e+00, 0.00000000e+00]])"
      ]
     },
     "execution_count": 26,
     "metadata": {},
     "output_type": "execute_result"
    }
   ],
   "source": [
    "W"
   ]
  },
  {
   "cell_type": "code",
   "execution_count": 27,
   "id": "984bc416",
   "metadata": {},
   "outputs": [],
   "source": [
    "top_topic_val = []\n",
    "\n",
    "for doc in W:\n",
    "    top_topic_val.append(np.max(doc))"
   ]
  },
  {
   "cell_type": "code",
   "execution_count": 28,
   "id": "cc316796",
   "metadata": {},
   "outputs": [],
   "source": [
    "d = {'grantmaker': df['grantmaker'][idx_type[0]], 'topic': doc_topics, 'topic_val': top_topic_val, 'amount': df['amount'][idx_type[0]], 'desc': df['description'][idx_type[0]]}"
   ]
  },
  {
   "cell_type": "code",
   "execution_count": 29,
   "id": "207ad825",
   "metadata": {},
   "outputs": [],
   "source": [
    "df_rec = pd.DataFrame(d)"
   ]
  },
  {
   "cell_type": "code",
   "execution_count": 30,
   "id": "963ac87b",
   "metadata": {},
   "outputs": [
    {
     "data": {
      "text/html": [
       "<div>\n",
       "<style scoped>\n",
       "    .dataframe tbody tr th:only-of-type {\n",
       "        vertical-align: middle;\n",
       "    }\n",
       "\n",
       "    .dataframe tbody tr th {\n",
       "        vertical-align: top;\n",
       "    }\n",
       "\n",
       "    .dataframe thead th {\n",
       "        text-align: right;\n",
       "    }\n",
       "</style>\n",
       "<table border=\"1\" class=\"dataframe\">\n",
       "  <thead>\n",
       "    <tr style=\"text-align: right;\">\n",
       "      <th></th>\n",
       "      <th>grantmaker</th>\n",
       "      <th>topic</th>\n",
       "      <th>topic_val</th>\n",
       "      <th>amount</th>\n",
       "      <th>desc</th>\n",
       "    </tr>\n",
       "  </thead>\n",
       "  <tbody>\n",
       "    <tr>\n",
       "      <th>47</th>\n",
       "      <td>Ford Foundation</td>\n",
       "      <td>Job/Career Training</td>\n",
       "      <td>0.224144</td>\n",
       "      <td>98950.0</td>\n",
       "      <td>General support for a free program that prepar...</td>\n",
       "    </tr>\n",
       "    <tr>\n",
       "      <th>48</th>\n",
       "      <td>Point32Health Foundation</td>\n",
       "      <td>After School Programs</td>\n",
       "      <td>0.101282</td>\n",
       "      <td>90000.0</td>\n",
       "      <td>Point32health Foundation announced today grant...</td>\n",
       "    </tr>\n",
       "    <tr>\n",
       "      <th>49</th>\n",
       "      <td>East Bay Community Foundation</td>\n",
       "      <td>Early Education</td>\n",
       "      <td>0.034360</td>\n",
       "      <td>85143.0</td>\n",
       "      <td>The Mcclymonds Merit Awards</td>\n",
       "    </tr>\n",
       "    <tr>\n",
       "      <th>50</th>\n",
       "      <td>Seattle Foundation</td>\n",
       "      <td>Job/Career Training</td>\n",
       "      <td>0.004080</td>\n",
       "      <td>84000.0</td>\n",
       "      <td>NCCP-supporting Research Informed IECMH Policies.</td>\n",
       "    </tr>\n",
       "    <tr>\n",
       "      <th>51</th>\n",
       "      <td>East Bay Community Foundation</td>\n",
       "      <td>Early Education</td>\n",
       "      <td>0.034360</td>\n",
       "      <td>83047.0</td>\n",
       "      <td>The Mcclymonds Merit Awards</td>\n",
       "    </tr>\n",
       "    <tr>\n",
       "      <th>...</th>\n",
       "      <td>...</td>\n",
       "      <td>...</td>\n",
       "      <td>...</td>\n",
       "      <td>...</td>\n",
       "      <td>...</td>\n",
       "    </tr>\n",
       "    <tr>\n",
       "      <th>1031</th>\n",
       "      <td>East Bay Community Foundation</td>\n",
       "      <td>School Programs</td>\n",
       "      <td>0.305469</td>\n",
       "      <td>5000.0</td>\n",
       "      <td>General support</td>\n",
       "    </tr>\n",
       "    <tr>\n",
       "      <th>1032</th>\n",
       "      <td>New York Community Trust</td>\n",
       "      <td>Early Education</td>\n",
       "      <td>0.146532</td>\n",
       "      <td>5000.0</td>\n",
       "      <td>For college scholarship for graduating senior ...</td>\n",
       "    </tr>\n",
       "    <tr>\n",
       "      <th>1033</th>\n",
       "      <td>The Susan A. &amp; Donald P. Babson Charitable Fou...</td>\n",
       "      <td>Arts</td>\n",
       "      <td>0.242050</td>\n",
       "      <td>5000.0</td>\n",
       "      <td>College Quest</td>\n",
       "    </tr>\n",
       "    <tr>\n",
       "      <th>1034</th>\n",
       "      <td>New York Community Trust</td>\n",
       "      <td>School Programs</td>\n",
       "      <td>0.305469</td>\n",
       "      <td>5000.0</td>\n",
       "      <td>For general support.</td>\n",
       "    </tr>\n",
       "    <tr>\n",
       "      <th>1035</th>\n",
       "      <td>The Fred Bergfors and Margaret Sandberg Founda...</td>\n",
       "      <td>College &amp; Career Success</td>\n",
       "      <td>0.622013</td>\n",
       "      <td>5000.0</td>\n",
       "      <td>Education</td>\n",
       "    </tr>\n",
       "  </tbody>\n",
       "</table>\n",
       "<p>768 rows × 5 columns</p>\n",
       "</div>"
      ],
      "text/plain": [
       "                                             grantmaker  \\\n",
       "47                                      Ford Foundation   \n",
       "48                             Point32Health Foundation   \n",
       "49                        East Bay Community Foundation   \n",
       "50                                   Seattle Foundation   \n",
       "51                        East Bay Community Foundation   \n",
       "...                                                 ...   \n",
       "1031                      East Bay Community Foundation   \n",
       "1032                           New York Community Trust   \n",
       "1033  The Susan A. & Donald P. Babson Charitable Fou...   \n",
       "1034                           New York Community Trust   \n",
       "1035  The Fred Bergfors and Margaret Sandberg Founda...   \n",
       "\n",
       "                         topic  topic_val   amount  \\\n",
       "47         Job/Career Training   0.224144  98950.0   \n",
       "48       After School Programs   0.101282  90000.0   \n",
       "49             Early Education   0.034360  85143.0   \n",
       "50         Job/Career Training   0.004080  84000.0   \n",
       "51             Early Education   0.034360  83047.0   \n",
       "...                        ...        ...      ...   \n",
       "1031           School Programs   0.305469   5000.0   \n",
       "1032           Early Education   0.146532   5000.0   \n",
       "1033                      Arts   0.242050   5000.0   \n",
       "1034           School Programs   0.305469   5000.0   \n",
       "1035  College & Career Success   0.622013   5000.0   \n",
       "\n",
       "                                                   desc  \n",
       "47    General support for a free program that prepar...  \n",
       "48    Point32health Foundation announced today grant...  \n",
       "49                          The Mcclymonds Merit Awards  \n",
       "50    NCCP-supporting Research Informed IECMH Policies.  \n",
       "51                          The Mcclymonds Merit Awards  \n",
       "...                                                 ...  \n",
       "1031                                    General support  \n",
       "1032  For college scholarship for graduating senior ...  \n",
       "1033                                      College Quest  \n",
       "1034                               For general support.  \n",
       "1035                                          Education  \n",
       "\n",
       "[768 rows x 5 columns]"
      ]
     },
     "execution_count": 30,
     "metadata": {},
     "output_type": "execute_result"
    }
   ],
   "source": [
    "df_rec"
   ]
  },
  {
   "cell_type": "code",
   "execution_count": 31,
   "id": "8afce64c",
   "metadata": {},
   "outputs": [],
   "source": [
    "if idx_type == major_idx:\n",
    "    with open('df_rec_major.pickle', 'wb') as f:\n",
    "        pickle.dump(df_rec, f)\n",
    "    df_rec.to_csv('df_rec_major.csv')\n",
    "elif idx_type == transf_idx:\n",
    "    with open('df_rec_transf.pickle', 'wb') as f:\n",
    "        pickle.dump(df_rec, f)\n",
    "    df_rec.to_csv('df_rec_transf.csv')\n"
   ]
  },
  {
   "cell_type": "code",
   "execution_count": 32,
   "id": "3b570087",
   "metadata": {},
   "outputs": [
    {
     "data": {
      "text/plain": [
       "([0, 1, 2, 3, 4, 5, 6, 7, 8, 9],\n",
       " [Text(0, 0, ''),\n",
       "  Text(0, 0, ''),\n",
       "  Text(0, 0, ''),\n",
       "  Text(0, 0, ''),\n",
       "  Text(0, 0, ''),\n",
       "  Text(0, 0, ''),\n",
       "  Text(0, 0, ''),\n",
       "  Text(0, 0, ''),\n",
       "  Text(0, 0, ''),\n",
       "  Text(0, 0, '')])"
      ]
     },
     "execution_count": 32,
     "metadata": {},
     "output_type": "execute_result"
    },
    {
     "data": {
      "image/png": "[encoded data removed]",
      "text/plain": [
       "<Figure size 432x288 with 1 Axes>"
      ]
     },
     "metadata": {
      "needs_background": "light"
     },
     "output_type": "display_data"
    }
   ],
   "source": [
    "plt.hist(df_rec['topic'])\n",
    "plt.xticks(rotation=90)\n"
   ]
  },
  {
   "cell_type": "markdown",
   "id": "e6e09b07",
   "metadata": {},
   "source": [
    "## Recommendations / Recommender"
   ]
  },
  {
   "cell_type": "code",
   "execution_count": 33,
   "id": "e776b430",
   "metadata": {},
   "outputs": [],
   "source": [
    "with open('df_rec_major.pickle','rb') as g:\n",
    "    df_rec_maj = pickle.load(g)\n",
    "with open('df_rec_transf.pickle','rb') as g:\n",
    "    df_rec_tra = pickle.load(g)"
   ]
  },
  {
   "cell_type": "markdown",
   "id": "ff1c188d",
   "metadata": {},
   "source": [
    "## Topic Modeling: CorEx"
   ]
  },
  {
   "cell_type": "code",
   "execution_count": 34,
   "id": "d281aebe",
   "metadata": {},
   "outputs": [],
   "source": [
    "import scipy.sparse as ss\n",
    "from corextopic import corextopic as ct"
   ]
  },
  {
   "cell_type": "code",
   "execution_count": 35,
   "id": "426fc643",
   "metadata": {},
   "outputs": [
    {
     "data": {
      "text/plain": [
       "(768, 1460)"
      ]
     },
     "execution_count": 35,
     "metadata": {},
     "output_type": "execute_result"
    }
   ],
   "source": [
    "dt.shape"
   ]
  },
  {
   "cell_type": "code",
   "execution_count": 36,
   "id": "5751ed2c",
   "metadata": {},
   "outputs": [
    {
     "data": {
      "text/plain": [
       "(1460,)"
      ]
     },
     "execution_count": 36,
     "metadata": {},
     "output_type": "execute_result"
    }
   ],
   "source": [
    "terms.shape"
   ]
  },
  {
   "cell_type": "code",
   "execution_count": 37,
   "id": "c497afff",
   "metadata": {},
   "outputs": [],
   "source": [
    "words = terms.tolist()"
   ]
  },
  {
   "cell_type": "code",
   "execution_count": 38,
   "id": "f9740527",
   "metadata": {},
   "outputs": [
    {
     "data": {
      "text/plain": [
       "1460"
      ]
     },
     "execution_count": 38,
     "metadata": {},
     "output_type": "execute_result"
    }
   ],
   "source": [
    "len(words)"
   ]
  },
  {
   "cell_type": "code",
   "execution_count": 39,
   "id": "14c14e7d",
   "metadata": {},
   "outputs": [],
   "source": [
    "anchors = [['operation','operating','general'],\n",
    "           ['purchase','equipment'],\n",
    "           ['scholarship'],\n",
    "          ['social', 'emotional','youth','program'],\n",
    "          ['workforce', 'job', 'career','college'],\n",
    "          ['school','student','classroom']]"
   ]
  },
  {
   "cell_type": "code",
   "execution_count": 40,
   "id": "05e7b9cc",
   "metadata": {},
   "outputs": [],
   "source": [
    "topic_model = ct.Corex(n_hidden = 6,\n",
    "                      words = words)"
   ]
  },
  {
   "cell_type": "code",
   "execution_count": 41,
   "id": "caffe4b8",
   "metadata": {},
   "outputs": [
    {
     "name": "stdout",
     "output_type": "stream",
     "text": [
      "WARNING: Some words never appear (or always appear)\n"
     ]
    },
    {
     "data": {
      "text/plain": [
       "<corextopic.corextopic.Corex at 0x7fc98c2f4dc0>"
      ]
     },
     "execution_count": 41,
     "metadata": {},
     "output_type": "execute_result"
    }
   ],
   "source": [
    "topic_model.fit(dt, words = words,\n",
    "                anchors = anchors, anchor_strength = 6)"
   ]
  },
  {
   "cell_type": "code",
   "execution_count": 42,
   "id": "e0800330",
   "metadata": {},
   "outputs": [],
   "source": [
    "topics = topic_model.get_topics()"
   ]
  },
  {
   "cell_type": "code",
   "execution_count": 43,
   "id": "ab2f7a95",
   "metadata": {},
   "outputs": [
    {
     "data": {
      "text/plain": [
       "[[('general', 1.8225765240176703, 1.0),\n",
       "  ('operating', 0.38693603366745144, 1.0),\n",
       "  ('operation', 0.1707172059007971, 1.0),\n",
       "  ('support', 0.1138972896527402, 1.0),\n",
       "  ('give', 0.013862703736378526, 1.0),\n",
       "  ('organization', 0.008688080286601734, 1.0),\n",
       "  ('unrestricted', 0.007963196321626382, 1.0),\n",
       "  ('education', 0.006678658710207443, -1.0),\n",
       "  ('capacity', 0.006517867032078837, 1.0),\n",
       "  ('operations', 0.005567845745476879, 1.0)],\n",
       " [('purchase', 0.902724628498476, 1.0),\n",
       "  ('equipment', 0.8156768093350274, 1.0),\n",
       "  ('computer', 0.039387419152053696, 1.0),\n",
       "  ('furnishing', 0.03695109712499623, 1.0),\n",
       "  ('installation', 0.026644640928480248, 1.0),\n",
       "  ('software', 0.009607271214524496, 1.0),\n",
       "  ('facility', 0.005123173320700368, 1.0),\n",
       "  ('ny', 0.004748811583432422, 1.0),\n",
       "  ('bronx', 0.003378987066640427, 1.0),\n",
       "  ('preschool', 0.0026640666360442824, 1.0)],\n",
       " [('scholarship', 0.56767209865842, 1.0),\n",
       "  ('performing', 0.00676122320290964, 1.0),\n",
       "  ('florence', 0.005670679817401926, 1.0),\n",
       "  ('baldwin', 0.005670679817401926, 1.0),\n",
       "  ('ssp', 0.005264439278068641, 1.0),\n",
       "  ('distribution', 0.0036965959066205616, 1.0),\n",
       "  ('broward', 0.0025973873742468393, 1.0),\n",
       "  ('partnering', 0.0025973873742468393, 1.0),\n",
       "  ('goods', 0.002577793468978683, 1.0),\n",
       "  ('hat', 0.002577793468978683, 1.0)],\n",
       " [('youth', 0.3403970572817846, 1.0),\n",
       "  ('social', 0.12237102832799553, 1.0),\n",
       "  ('emotional', 0.03858384911623392, 1.0),\n",
       "  ('development', 0.009996044363860887, 1.0),\n",
       "  ('justice', 0.006887125751359726, 1.0),\n",
       "  ('service', 0.0057084041993271046, 1.0),\n",
       "  ('disadvantaged', 0.005474481102767212, 1.0),\n",
       "  ('community', 0.0051902388071735405, 1.0),\n",
       "  ('family', 0.005016171394658574, 1.0),\n",
       "  ('engagement', 0.00470434338858346, 1.0)],\n",
       " [('college', 0.4714637652183421, 1.0),\n",
       "  ('career', 0.17494474242128596, 1.0),\n",
       "  ('workforce', 0.043013356426795706, 1.0),\n",
       "  ('job', 0.030593473908310125, 1.0),\n",
       "  ('bound', 0.015280703001882836, 1.0),\n",
       "  ('success', 0.012701558116435868, 1.0),\n",
       "  ('access', 0.010482909383857106, 1.0),\n",
       "  ('persistence', 0.007319140287770579, 1.0),\n",
       "  ('completion', 0.004521813568079359, 1.0),\n",
       "  ('readiness', 0.0042178154359215495, 1.0)],\n",
       " [('school', 0.3854484196226379, 1.0),\n",
       "  ('student', 0.30207447189878234, 1.0),\n",
       "  ('classroom', 0.10147000039790154, 1.0),\n",
       "  ('high', 0.01924789762509584, 1.0),\n",
       "  ('middle', 0.009268202165698916, 1.0),\n",
       "  ('after', 0.007779412609592783, 1.0),\n",
       "  ('programming', 0.005572303098467919, 1.0),\n",
       "  ('coordinated', 0.004858293524442021, 1.0),\n",
       "  ('transformation', 0.004630832529250151, 1.0),\n",
       "  ('data', 0.004429551560759744, 1.0)]]"
      ]
     },
     "execution_count": 43,
     "metadata": {},
     "output_type": "execute_result"
    }
   ],
   "source": [
    "topics"
   ]
  },
  {
   "cell_type": "code",
   "execution_count": 44,
   "id": "f6241f96",
   "metadata": {},
   "outputs": [
    {
     "name": "stdout",
     "output_type": "stream",
     "text": [
      "1: general, operating, operation, support, give, organization, unrestricted, ~education, capacity, operations\n",
      "2: purchase, equipment, computer, furnishing, installation, software, facility, ny, bronx, preschool\n",
      "3: scholarship, performing, florence, baldwin, ssp, distribution, broward, partnering, goods, hat\n",
      "4: youth, social, emotional, development, justice, service, disadvantaged, community, family, engagement\n",
      "5: college, career, workforce, job, bound, success, access, persistence, completion, readiness\n",
      "6: school, student, classroom, high, middle, after, programming, coordinated, transformation, data\n"
     ]
    }
   ],
   "source": [
    "for topic_n,topic in enumerate(topics):\n",
    "    # w: word, mi: mutual information, s: sign\n",
    "    topic = [(w,mi,s) if s > 0 else ('~'+w,mi,s) for w,mi,s in topic]\n",
    "    # Unpack the info about the topic\n",
    "    words,mis,signs = zip(*topic)    \n",
    "    # Print topic\n",
    "    topic_str = str(topic_n+1)+': '+', '.join(words)\n",
    "    print(topic_str)"
   ]
  },
  {
   "cell_type": "markdown",
   "id": "e0f01217",
   "metadata": {},
   "source": [
    "## Scattertext"
   ]
  },
  {
   "cell_type": "code",
   "execution_count": 45,
   "id": "1645c9d0",
   "metadata": {},
   "outputs": [],
   "source": [
    "#create scattertext to do intial data exploration\n",
    "import scattertext as st\n",
    "import spacy\n",
    "nlp = spacy.load('en_core_web_sm')"
   ]
  },
  {
   "cell_type": "code",
   "execution_count": 46,
   "id": "353fc8e5",
   "metadata": {
    "scrolled": true
   },
   "outputs": [],
   "source": [
    "corpus = st.CorpusFromPandas(df,\n",
    "                            category_col = 'gift_type',\n",
    "                            text_col = 'lemma', #choose 'lemma', 'n_gram', or 'ent'\n",
    "                            nlp = nlp).build()"
   ]
  },
  {
   "cell_type": "code",
   "execution_count": 47,
   "id": "1c10007b",
   "metadata": {},
   "outputs": [],
   "source": [
    "html = st.produce_scattertext_explorer(corpus,\n",
    "             category='transformative',\n",
    "             category_name='Transformative',\n",
    "             not_category_name='Major',\n",
    "             width_in_pixels=1000,\n",
    "             metadata=df['recipient'])"
   ]
  },
  {
   "cell_type": "code",
   "execution_count": 48,
   "id": "ce518b93",
   "metadata": {},
   "outputs": [
    {
     "data": {
      "text/plain": [
       "701229"
      ]
     },
     "execution_count": 48,
     "metadata": {},
     "output_type": "execute_result"
    }
   ],
   "source": [
    "open('scatterplots/lemma.html','wb').write(html.encode('utf-8'))"
   ]
  },
  {
   "cell_type": "markdown",
   "id": "b2e81fd4",
   "metadata": {},
   "source": [
    "## K Means Clustering"
   ]
  },
  {
   "cell_type": "code",
   "execution_count": 49,
   "id": "1a2c278d",
   "metadata": {},
   "outputs": [],
   "source": [
    "from sklearn.cluster import KMeans\n",
    "import seaborn as sns\n",
    "import matplotlib.pyplot as plt"
   ]
  },
  {
   "cell_type": "code",
   "execution_count": 50,
   "id": "a05b1a3f",
   "metadata": {},
   "outputs": [
    {
     "data": {
      "text/plain": [
       "[725.4914728528556,\n",
       " 654.3092362151988,\n",
       " 626.0228239405889,\n",
       " 615.225504605964,\n",
       " 601.8420786533641,\n",
       " 598.4853267993637,\n",
       " 585.7900826633745,\n",
       " 583.4153733024166,\n",
       " 573.3410499057547,\n",
       " 563.2920441570325,\n",
       " 565.4013693334919,\n",
       " 554.3699316742875]"
      ]
     },
     "execution_count": 50,
     "metadata": {},
     "output_type": "execute_result"
    }
   ],
   "source": [
    "inertia = []\n",
    "for num_clusters in range(1,13):\n",
    "    km = KMeans(n_clusters = num_clusters)\n",
    "    km.fit(dt)\n",
    "    inertia.append(km.inertia_)\n",
    "inertia"
   ]
  },
  {
   "cell_type": "code",
   "execution_count": 51,
   "id": "059a8304",
   "metadata": {},
   "outputs": [
    {
     "data": {
      "text/plain": [
       "[<matplotlib.lines.Line2D at 0x7fc96885f520>]"
      ]
     },
     "execution_count": 51,
     "metadata": {},
     "output_type": "execute_result"
    },
    {
     "data": {
      "image/png": "[encoded data removed]",
      "text/plain": [
       "<Figure size 432x288 with 1 Axes>"
      ]
     },
     "metadata": {
      "needs_background": "light"
     },
     "output_type": "display_data"
    }
   ],
   "source": [
    "plt.plot(range(1,len(inertia) +1), inertia)"
   ]
  },
  {
   "cell_type": "code",
   "execution_count": 52,
   "id": "54bc2d05",
   "metadata": {},
   "outputs": [
    {
     "data": {
      "text/html": [
       "<style>#sk-container-id-1 {color: black;background-color: white;}#sk-container-id-1 pre{padding: 0;}#sk-container-id-1 div.sk-toggleable {background-color: white;}#sk-container-id-1 label.sk-toggleable__label {cursor: pointer;display: block;width: 100%;margin-bottom: 0;padding: 0.3em;box-sizing: border-box;text-align: center;}#sk-container-id-1 label.sk-toggleable__label-arrow:before {content: \"▸\";float: left;margin-right: 0.25em;color: #696969;}#sk-container-id-1 label.sk-toggleable__label-arrow:hover:before {color: black;}#sk-container-id-1 div.sk-estimator:hover label.sk-toggleable__label-arrow:before {color: black;}#sk-container-id-1 div.sk-toggleable__content {max-height: 0;max-width: 0;overflow: hidden;text-align: left;background-color: #f0f8ff;}#sk-container-id-1 div.sk-toggleable__content pre {margin: 0.2em;color: black;border-radius: 0.25em;background-color: #f0f8ff;}#sk-container-id-1 input.sk-toggleable__control:checked~div.sk-toggleable__content {max-height: 200px;max-width: 100%;overflow: auto;}#sk-container-id-1 input.sk-toggleable__control:checked~label.sk-toggleable__label-arrow:before {content: \"▾\";}#sk-container-id-1 div.sk-estimator input.sk-toggleable__control:checked~label.sk-toggleable__label {background-color: #d4ebff;}#sk-container-id-1 div.sk-label input.sk-toggleable__control:checked~label.sk-toggleable__label {background-color: #d4ebff;}#sk-container-id-1 input.sk-hidden--visually {border: 0;clip: rect(1px 1px 1px 1px);clip: rect(1px, 1px, 1px, 1px);height: 1px;margin: -1px;overflow: hidden;padding: 0;position: absolute;width: 1px;}#sk-container-id-1 div.sk-estimator {font-family: monospace;background-color: #f0f8ff;border: 1px dotted black;border-radius: 0.25em;box-sizing: border-box;margin-bottom: 0.5em;}#sk-container-id-1 div.sk-estimator:hover {background-color: #d4ebff;}#sk-container-id-1 div.sk-parallel-item::after {content: \"\";width: 100%;border-bottom: 1px solid gray;flex-grow: 1;}#sk-container-id-1 div.sk-label:hover label.sk-toggleable__label {background-color: #d4ebff;}#sk-container-id-1 div.sk-serial::before {content: \"\";position: absolute;border-left: 1px solid gray;box-sizing: border-box;top: 0;bottom: 0;left: 50%;z-index: 0;}#sk-container-id-1 div.sk-serial {display: flex;flex-direction: column;align-items: center;background-color: white;padding-right: 0.2em;padding-left: 0.2em;position: relative;}#sk-container-id-1 div.sk-item {position: relative;z-index: 1;}#sk-container-id-1 div.sk-parallel {display: flex;align-items: stretch;justify-content: center;background-color: white;position: relative;}#sk-container-id-1 div.sk-item::before, #sk-container-id-1 div.sk-parallel-item::before {content: \"\";position: absolute;border-left: 1px solid gray;box-sizing: border-box;top: 0;bottom: 0;left: 50%;z-index: -1;}#sk-container-id-1 div.sk-parallel-item {display: flex;flex-direction: column;z-index: 1;position: relative;background-color: white;}#sk-container-id-1 div.sk-parallel-item:first-child::after {align-self: flex-end;width: 50%;}#sk-container-id-1 div.sk-parallel-item:last-child::after {align-self: flex-start;width: 50%;}#sk-container-id-1 div.sk-parallel-item:only-child::after {width: 0;}#sk-container-id-1 div.sk-dashed-wrapped {border: 1px dashed gray;margin: 0 0.4em 0.5em 0.4em;box-sizing: border-box;padding-bottom: 0.4em;background-color: white;}#sk-container-id-1 div.sk-label label {font-family: monospace;font-weight: bold;display: inline-block;line-height: 1.2em;}#sk-container-id-1 div.sk-label-container {text-align: center;}#sk-container-id-1 div.sk-container {/* jupyter's `normalize.less` sets `[hidden] { display: none; }` but bootstrap.min.css set `[hidden] { display: none !important; }` so we also need the `!important` here to be able to override the default hidden behavior on the sphinx rendered scikit-learn.org. See: https://github.com/scikit-learn/scikit-learn/issues/21755 */display: inline-block !important;position: relative;}#sk-container-id-1 div.sk-text-repr-fallback {display: none;}</style><div id=\"sk-container-id-1\" class=\"sk-top-container\"><div class=\"sk-text-repr-fallback\"><pre>KMeans(n_clusters=2, random_state=11)</pre><b>In a Jupyter environment, please rerun this cell to show the HTML representation or trust the notebook. <br />On GitHub, the HTML representation is unable to render, please try loading this page with nbviewer.org.</b></div><div class=\"sk-container\" hidden><div class=\"sk-item\"><div class=\"sk-estimator sk-toggleable\"><input class=\"sk-toggleable__control sk-hidden--visually\" id=\"sk-estimator-id-1\" type=\"checkbox\" checked><label for=\"sk-estimator-id-1\" class=\"sk-toggleable__label sk-toggleable__label-arrow\">KMeans</label><div class=\"sk-toggleable__content\"><pre>KMeans(n_clusters=2, random_state=11)</pre></div></div></div></div></div>"
      ],
      "text/plain": [
       "KMeans(n_clusters=2, random_state=11)"
      ]
     },
     "execution_count": 52,
     "metadata": {},
     "output_type": "execute_result"
    }
   ],
   "source": [
    "clusters = 2\n",
    "\n",
    "km = KMeans(n_clusters = clusters, random_state = 11)\n",
    "km.fit(dt)"
   ]
  },
  {
   "cell_type": "code",
   "execution_count": 53,
   "id": "ecc4a5cd",
   "metadata": {},
   "outputs": [
    {
     "data": {
      "text/plain": [
       "(array([0, 1], dtype=int32), array([128, 640]))"
      ]
     },
     "execution_count": 53,
     "metadata": {},
     "output_type": "execute_result"
    }
   ],
   "source": [
    "np.unique(km.labels_, return_counts = True)"
   ]
  },
  {
   "cell_type": "code",
   "execution_count": 54,
   "id": "77b4de50",
   "metadata": {},
   "outputs": [
    {
     "data": {
      "text/plain": [
       "<AxesSubplot:xlabel='cluster'>"
      ]
     },
     "execution_count": 54,
     "metadata": {},
     "output_type": "execute_result"
    },
    {
     "data": {
      "image/png": "[encoded data removed]",
      "text/plain": [
       "<Figure size 1152x648 with 1 Axes>"
      ]
     },
     "metadata": {
      "needs_background": "light"
     },
     "output_type": "display_data"
    }
   ],
   "source": [
    "sizes = []\n",
    "for i in range(clusters):\n",
    "              sizes.append({'cluster': i, 'size':\n",
    "                           np.sum(km.labels_ == i)})\n",
    "pd.DataFrame(sizes).set_index('cluster').plot.bar(figsize = (16,9))"
   ]
  },
  {
   "cell_type": "code",
   "execution_count": 55,
   "id": "c04964fa",
   "metadata": {},
   "outputs": [
    {
     "ename": "TypeError",
     "evalue": "scatter() missing 2 required positional arguments: 'x' and 'y'",
     "output_type": "error",
     "traceback": [
      "\u001b[0;31m---------------------------------------------------------------------------\u001b[0m",
      "\u001b[0;31mTypeError\u001b[0m                                 Traceback (most recent call last)",
      "\u001b[0;32m/var/folders/lg/km0fh1wx2mz0g_h65yrwqwmr0000gn/T/ipykernel_53766/1222621918.py\u001b[0m in \u001b[0;36m<module>\u001b[0;34m\u001b[0m\n\u001b[0;32m----> 1\u001b[0;31m \u001b[0mplt\u001b[0m\u001b[0;34m.\u001b[0m\u001b[0mscatter\u001b[0m\u001b[0;34m(\u001b[0m\u001b[0;34m)\u001b[0m\u001b[0;34m\u001b[0m\u001b[0;34m\u001b[0m\u001b[0m\n\u001b[0m",
      "\u001b[0;31mTypeError\u001b[0m: scatter() missing 2 required positional arguments: 'x' and 'y'"
     ]
    }
   ],
   "source": [
    "plt.scatter()"
   ]
  }
 ],
 "metadata": {
  "kernelspec": {
   "display_name": "Python 3 (unsupervised)",
   "language": "python",
   "name": "unsupervised"
  },
  "language_info": {
   "codemirror_mode": {
    "name": "ipython",
    "version": 3
   },
   "file_extension": ".py",
   "mimetype": "text/x-python",
   "name": "python",
   "nbconvert_exporter": "python",
   "pygments_lexer": "ipython3",
   "version": "3.9.7"
  }
 },
 "nbformat": 4,
 "nbformat_minor": 5
}
