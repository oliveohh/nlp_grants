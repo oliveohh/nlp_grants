{
 "cells": [
  {
   "cell_type": "markdown",
   "id": "c6cb297f",
   "metadata": {},
   "source": [
    "# Topic Modeling & Clustering"
   ]
  },
  {
   "cell_type": "code",
   "execution_count": 1,
   "id": "68b9a8ef",
   "metadata": {},
   "outputs": [],
   "source": [
    "import pandas as pd\n",
    "import numpy as np\n",
    "import pickle"
   ]
  },
  {
   "cell_type": "code",
   "execution_count": 2,
   "id": "29e42bb9",
   "metadata": {},
   "outputs": [],
   "source": [
    "with open('grant_df_lemma.pickle','rb') as g:\n",
    "    df = pickle.load(g)"
   ]
  },
  {
   "cell_type": "code",
   "execution_count": 3,
   "id": "94bca7b1",
   "metadata": {},
   "outputs": [
    {
     "name": "stdout",
     "output_type": "stream",
     "text": [
      "df columns: \n",
      "\n",
      " Index(['grantmaker', 'grantmaker_state', 'recipient', 'recip_city',\n",
      "       'recip_state_cntry', 'subject', 'year', 'amount', 'strategy',\n",
      "       'description', 'gift_type', 'lemma', 'n_gram', 'ent'],\n",
      "      dtype='object')\n"
     ]
    }
   ],
   "source": [
    "print('df columns: \\n\\n', df.columns)"
   ]
  },
  {
   "cell_type": "code",
   "execution_count": 4,
   "id": "1c3fa5cf",
   "metadata": {},
   "outputs": [
    {
     "data": {
      "text/plain": [
       "array(['transformative', 'major'], dtype=object)"
      ]
     },
     "execution_count": 4,
     "metadata": {},
     "output_type": "execute_result"
    }
   ],
   "source": [
    "df.gift_type.unique()"
   ]
  },
  {
   "cell_type": "code",
   "execution_count": 5,
   "id": "b79d81c3",
   "metadata": {},
   "outputs": [
    {
     "name": "stdout",
     "output_type": "stream",
     "text": [
      "num major gifts =  768\n",
      "num transformational gifts =  268\n"
     ]
    }
   ],
   "source": [
    "major_idx = np.where(df.gift_type == 'major')\n",
    "print('num major gifts = ', len(major_idx[0]))\n",
    "\n",
    "transf_idx = np.where(df.gift_type == 'transformative')\n",
    "print('num transformational gifts = ', len(transf_idx[0]))"
   ]
  },
  {
   "cell_type": "markdown",
   "id": "40b7af21",
   "metadata": {},
   "source": [
    "## Topic Modeling: NMF"
   ]
  },
  {
   "cell_type": "code",
   "execution_count": 6,
   "id": "d6670336",
   "metadata": {},
   "outputs": [],
   "source": [
    "from sklearn.decomposition import NMF"
   ]
  },
  {
   "cell_type": "code",
   "execution_count": 7,
   "id": "a1a995cd",
   "metadata": {},
   "outputs": [],
   "source": [
    "with open('mtx_terms_dict.pickle','rb') as g:\n",
    "    mtx_terms_dict = pickle.load(g)"
   ]
  },
  {
   "cell_type": "code",
   "execution_count": 8,
   "id": "b391f0c3",
   "metadata": {},
   "outputs": [
    {
     "name": "stdout",
     "output_type": "stream",
     "text": [
      "tokens type:  lemma \n",
      "\n",
      "# docs:  1036\n",
      "# terms:  1460\n"
     ]
    }
   ],
   "source": [
    "dt_type = 'lemma' #choose 'lemma', 'n_gram', or 'ent'\n",
    "print('tokens type: ', dt_type, '\\n')\n",
    "\n",
    "dt, terms = mtx_terms_dict[dt_type][0], mtx_terms_dict[dt_type][1]\n",
    "print('# docs: ', dt.shape[0])\n",
    "print('# terms: ', dt.shape[1])"
   ]
  },
  {
   "cell_type": "code",
   "execution_count": 9,
   "id": "6f67d16c",
   "metadata": {},
   "outputs": [
    {
     "data": {
      "text/plain": [
       "array(['10', '12', '19', ..., 'young', 'youth', 'zone'], dtype=object)"
      ]
     },
     "execution_count": 9,
     "metadata": {},
     "output_type": "execute_result"
    }
   ],
   "source": [
    "terms"
   ]
  },
  {
   "cell_type": "code",
   "execution_count": 10,
   "id": "d423330b",
   "metadata": {},
   "outputs": [
    {
     "name": "stdout",
     "output_type": "stream",
     "text": [
      "dt rows =  768\n"
     ]
    }
   ],
   "source": [
    "#### HYPERPARAM - IDX_TYPE ####\n",
    "\n",
    "idx_type = major_idx #choose major_idx, transf_idx, or None\n",
    "\n",
    "if idx_type != None:\n",
    "    dt = dt[idx_type] \n",
    "\n",
    "print('dt rows = ', dt.shape[0])"
   ]
  },
  {
   "cell_type": "code",
   "execution_count": 11,
   "id": "c91e5392",
   "metadata": {},
   "outputs": [
    {
     "name": "stdout",
     "output_type": "stream",
     "text": [
      "# topics:  10\n"
     ]
    },
    {
     "name": "stderr",
     "output_type": "stream",
     "text": [
      "/Users/oliviaoffutt/opt/anaconda3/lib/python3.9/site-packages/sklearn/decomposition/_nmf.py:1692: ConvergenceWarning: Maximum number of iterations 200 reached. Increase it to improve convergence.\n",
      "  warnings.warn(\n"
     ]
    }
   ],
   "source": [
    "nmf = NMF(10) #choose num topics\n",
    "W = nmf.fit_transform(dt)\n",
    "H = nmf.components_\n",
    "print('# topics: ', H.shape[0])"
   ]
  },
  {
   "cell_type": "code",
   "execution_count": 12,
   "id": "37315a03",
   "metadata": {},
   "outputs": [
    {
     "data": {
      "text/plain": [
       "(768, 10)"
      ]
     },
     "execution_count": 12,
     "metadata": {},
     "output_type": "execute_result"
    }
   ],
   "source": [
    "W.shape"
   ]
  },
  {
   "cell_type": "code",
   "execution_count": 13,
   "id": "3ed20cd7",
   "metadata": {},
   "outputs": [],
   "source": [
    "#get top terms for each topic w/ pct contribution to topic\n",
    "def display_topics(n_terms, nmf=nmf, terms=terms):\n",
    "    for topic, vec in enumerate(nmf.components_):\n",
    "        total = vec.sum()\n",
    "        largest = vec.argsort()[::-1]\n",
    "        print('\\nTopic %02d' % topic)\n",
    "        for i in range(0, n_terms):\n",
    "            print(' %s (%2.2f)' % (terms[largest[i]],\n",
    "                                  vec[largest[i]]*100.0/total))"
   ]
  },
  {
   "cell_type": "code",
   "execution_count": 14,
   "id": "42eeb4f1",
   "metadata": {},
   "outputs": [
    {
     "name": "stdout",
     "output_type": "stream",
     "text": [
      "\n",
      "Topic 00\n",
      " general (50.14)\n",
      " support (36.97)\n",
      " capacity (1.35)\n",
      " building (1.32)\n",
      "\n",
      "Topic 01\n",
      " purchase (29.46)\n",
      " equipment (28.48)\n",
      " computer (9.89)\n",
      " furnishing (5.37)\n",
      "\n",
      "Topic 02\n",
      " program (16.40)\n",
      " college (12.02)\n",
      " success (4.74)\n",
      " bound (3.63)\n",
      "\n",
      "Topic 03\n",
      " operating (52.81)\n",
      " general (7.80)\n",
      " support (4.01)\n",
      " give (3.45)\n",
      "\n",
      "Topic 04\n",
      " operation (26.59)\n",
      " organization (21.39)\n",
      " general (12.93)\n",
      " operations (2.58)\n",
      "\n",
      "Topic 05\n",
      " scholarship (34.20)\n",
      " student (7.84)\n",
      " fund (7.07)\n",
      " award (2.85)\n",
      "\n",
      "Topic 06\n",
      " matching (17.95)\n",
      " gift (17.12)\n",
      " discretionary (16.91)\n",
      " trustee (16.66)\n",
      "\n",
      "Topic 07\n",
      " education (19.91)\n",
      " youth (3.91)\n",
      " music (2.97)\n",
      " chicago (2.80)\n",
      "\n",
      "Topic 08\n",
      " grant (19.89)\n",
      " unrestricted (18.25)\n",
      " give (12.77)\n",
      " honorary (11.84)\n",
      "\n",
      "Topic 09\n",
      " school (3.79)\n",
      " student (2.21)\n",
      " high (1.69)\n",
      " support (1.22)\n"
     ]
    }
   ],
   "source": [
    "display_topics(4,nmf,terms) #choose numnber of terms to see"
   ]
  },
  {
   "cell_type": "code",
   "execution_count": 15,
   "id": "0d7d77cc",
   "metadata": {},
   "outputs": [],
   "source": [
    "import random"
   ]
  },
  {
   "cell_type": "code",
   "execution_count": 16,
   "id": "ba801b86",
   "metadata": {},
   "outputs": [
    {
     "name": "stdout",
     "output_type": "stream",
     "text": [
      "[0.         0.         0.16515789 0.00201211 0.         0.\n",
      " 0.         0.         0.         0.        ]\n",
      "College Access and Success for Oswego County\n"
     ]
    }
   ],
   "source": [
    "#topic tester\n",
    "df_i = random.choice(idx_type[0])\n",
    "li = list(idx_type[0])\n",
    "W_i = li.index(df_i)\n",
    "print(W[W_i])\n",
    "print(df['description'][df_i])"
   ]
  },
  {
   "cell_type": "code",
   "execution_count": 17,
   "id": "e544bb14",
   "metadata": {},
   "outputs": [],
   "source": [
    "# define the categories\n",
    "topics_dict = {0: 'School Programs', 1: 'General Support', 2: 'Arts', 3: 'NY/Boston', 4: 'After School Programs',\n",
    "             5: 'Early Education', 6: 'Scholarship', 7: 'College & Career Success', 8: 'Health/Foster', 9: 'Job/Career Training'}\n"
   ]
  },
  {
   "cell_type": "code",
   "execution_count": 18,
   "id": "cafdc6da",
   "metadata": {},
   "outputs": [],
   "source": [
    "# For each document, get the index for the highest topic coefficient\n",
    "top_topic_idx = []\n",
    "\n",
    "for doc in W:\n",
    "    top_topic_idx.append(np.argmax(doc))"
   ]
  },
  {
   "cell_type": "code",
   "execution_count": 19,
   "id": "4a6e9b43",
   "metadata": {},
   "outputs": [
    {
     "data": {
      "text/plain": [
       "{0: 'School Programs',\n",
       " 1: 'General Support',\n",
       " 2: 'Arts',\n",
       " 3: 'NY/Boston',\n",
       " 4: 'After School Programs',\n",
       " 5: 'Early Education',\n",
       " 6: 'Scholarship',\n",
       " 7: 'College & Career Success',\n",
       " 8: 'Health/Foster',\n",
       " 9: 'Job/Career Training'}"
      ]
     },
     "execution_count": 19,
     "metadata": {},
     "output_type": "execute_result"
    }
   ],
   "source": [
    "topics_dict"
   ]
  },
  {
   "cell_type": "code",
   "execution_count": 20,
   "id": "f98d4498",
   "metadata": {},
   "outputs": [],
   "source": [
    "# Use the index to map to the actual topic in `topics`\n",
    "\n",
    "doc_topics = []\n",
    "\n",
    "for i in top_topic_idx:\n",
    "    doc_topics.append(topics_dict[i])"
   ]
  },
  {
   "cell_type": "code",
   "execution_count": 21,
   "id": "0326d2b9",
   "metadata": {},
   "outputs": [
    {
     "name": "stdout",
     "output_type": "stream",
     "text": [
      "School Programs\n",
      "General support\n"
     ]
    }
   ],
   "source": [
    "#topic tester pt 2\n",
    "df_i = random.choice(idx_type[0]) #find index of df\n",
    "li = list(idx_type[0]) \n",
    "W_i = li.index(df_i) #find index of doc-topic matrix\n",
    "print(doc_topics[W_i])\n",
    "print(df['description'][df_i])"
   ]
  },
  {
   "cell_type": "markdown",
   "id": "fbe42e21",
   "metadata": {},
   "source": [
    "### *Visualizing*"
   ]
  },
  {
   "cell_type": "code",
   "execution_count": 22,
   "id": "8d4039d0",
   "metadata": {},
   "outputs": [],
   "source": [
    "import seaborn as sns\n",
    "import matplotlib.pyplot as plt"
   ]
  },
  {
   "cell_type": "code",
   "execution_count": 23,
   "id": "3d225811",
   "metadata": {},
   "outputs": [
    {
     "data": {
      "text/plain": [
       "768"
      ]
     },
     "execution_count": 23,
     "metadata": {},
     "output_type": "execute_result"
    }
   ],
   "source": [
    "len(doc_topics)"
   ]
  },
  {
   "cell_type": "code",
   "execution_count": 24,
   "id": "292595ed",
   "metadata": {},
   "outputs": [
    {
     "data": {
      "text/plain": [
       "(768, 10)"
      ]
     },
     "execution_count": 24,
     "metadata": {},
     "output_type": "execute_result"
    }
   ],
   "source": [
    "W.shape"
   ]
  },
  {
   "cell_type": "code",
   "execution_count": 25,
   "id": "94fb4a58",
   "metadata": {},
   "outputs": [
    {
     "data": {
      "text/plain": [
       "Index(['grantmaker', 'grantmaker_state', 'recipient', 'recip_city',\n",
       "       'recip_state_cntry', 'subject', 'year', 'amount', 'strategy',\n",
       "       'description', 'gift_type', 'lemma', 'n_gram', 'ent'],\n",
       "      dtype='object')"
      ]
     },
     "execution_count": 25,
     "metadata": {},
     "output_type": "execute_result"
    }
   ],
   "source": [
    "df.columns"
   ]
  },
  {
   "cell_type": "code",
   "execution_count": 26,
   "id": "1428c1bc",
   "metadata": {},
   "outputs": [
    {
     "data": {
      "text/plain": [
       "array([[4.13864798e-02, 0.00000000e+00, 1.00052014e-01, ...,\n",
       "        0.00000000e+00, 0.00000000e+00, 2.25795894e-01],\n",
       "       [0.00000000e+00, 4.46143663e-04, 1.67157900e-02, ...,\n",
       "        3.67064412e-03, 4.73338249e-02, 2.57673802e-02],\n",
       "       [0.00000000e+00, 0.00000000e+00, 0.00000000e+00, ...,\n",
       "        0.00000000e+00, 0.00000000e+00, 0.00000000e+00],\n",
       "       ...,\n",
       "       [0.00000000e+00, 0.00000000e+00, 2.43805590e-01, ...,\n",
       "        0.00000000e+00, 0.00000000e+00, 0.00000000e+00],\n",
       "       [3.05389958e-01, 0.00000000e+00, 0.00000000e+00, ...,\n",
       "        0.00000000e+00, 0.00000000e+00, 0.00000000e+00],\n",
       "       [0.00000000e+00, 0.00000000e+00, 0.00000000e+00, ...,\n",
       "        6.17738421e-01, 0.00000000e+00, 0.00000000e+00]])"
      ]
     },
     "execution_count": 26,
     "metadata": {},
     "output_type": "execute_result"
    }
   ],
   "source": [
    "W"
   ]
  },
  {
   "cell_type": "code",
   "execution_count": 27,
   "id": "984bc416",
   "metadata": {},
   "outputs": [],
   "source": [
    "top_topic_val = []\n",
    "\n",
    "for doc in W:\n",
    "    top_topic_val.append(np.max(doc))"
   ]
  },
  {
   "cell_type": "code",
   "execution_count": 28,
   "id": "cc316796",
   "metadata": {},
   "outputs": [],
   "source": [
    "d = {'grantmaker': df['grantmaker'][idx_type[0]], 'topic': doc_topics, 'topic_val': top_topic_val, 'amount': df['amount'][idx_type[0]], 'desc': df['description'][idx_type[0]]}"
   ]
  },
  {
   "cell_type": "code",
   "execution_count": 29,
   "id": "207ad825",
   "metadata": {},
   "outputs": [],
   "source": [
    "df_rec = pd.DataFrame(d)"
   ]
  },
  {
   "cell_type": "code",
   "execution_count": 30,
   "id": "b5acebbc",
   "metadata": {},
   "outputs": [
    {
     "data": {
      "text/html": [
       "<div>\n",
       "<style scoped>\n",
       "    .dataframe tbody tr th:only-of-type {\n",
       "        vertical-align: middle;\n",
       "    }\n",
       "\n",
       "    .dataframe tbody tr th {\n",
       "        vertical-align: top;\n",
       "    }\n",
       "\n",
       "    .dataframe thead th {\n",
       "        text-align: right;\n",
       "    }\n",
       "</style>\n",
       "<table border=\"1\" class=\"dataframe\">\n",
       "  <thead>\n",
       "    <tr style=\"text-align: right;\">\n",
       "      <th></th>\n",
       "      <th>grantmaker</th>\n",
       "      <th>topic</th>\n",
       "      <th>topic_val</th>\n",
       "      <th>amount</th>\n",
       "      <th>desc</th>\n",
       "    </tr>\n",
       "  </thead>\n",
       "  <tbody>\n",
       "    <tr>\n",
       "      <th>47</th>\n",
       "      <td>Ford Foundation</td>\n",
       "      <td>Job/Career Training</td>\n",
       "      <td>0.225796</td>\n",
       "      <td>98950.0</td>\n",
       "      <td>General support for a free program that prepar...</td>\n",
       "    </tr>\n",
       "    <tr>\n",
       "      <th>48</th>\n",
       "      <td>Point32Health Foundation</td>\n",
       "      <td>After School Programs</td>\n",
       "      <td>0.101558</td>\n",
       "      <td>90000.0</td>\n",
       "      <td>Point32health Foundation announced today grant...</td>\n",
       "    </tr>\n",
       "    <tr>\n",
       "      <th>49</th>\n",
       "      <td>East Bay Community Foundation</td>\n",
       "      <td>Early Education</td>\n",
       "      <td>0.034389</td>\n",
       "      <td>85143.0</td>\n",
       "      <td>The Mcclymonds Merit Awards</td>\n",
       "    </tr>\n",
       "    <tr>\n",
       "      <th>50</th>\n",
       "      <td>Seattle Foundation</td>\n",
       "      <td>Job/Career Training</td>\n",
       "      <td>0.004095</td>\n",
       "      <td>84000.0</td>\n",
       "      <td>NCCP-supporting Research Informed IECMH Policies.</td>\n",
       "    </tr>\n",
       "    <tr>\n",
       "      <th>51</th>\n",
       "      <td>East Bay Community Foundation</td>\n",
       "      <td>Early Education</td>\n",
       "      <td>0.034389</td>\n",
       "      <td>83047.0</td>\n",
       "      <td>The Mcclymonds Merit Awards</td>\n",
       "    </tr>\n",
       "    <tr>\n",
       "      <th>...</th>\n",
       "      <td>...</td>\n",
       "      <td>...</td>\n",
       "      <td>...</td>\n",
       "      <td>...</td>\n",
       "      <td>...</td>\n",
       "    </tr>\n",
       "    <tr>\n",
       "      <th>1031</th>\n",
       "      <td>East Bay Community Foundation</td>\n",
       "      <td>School Programs</td>\n",
       "      <td>0.305390</td>\n",
       "      <td>5000.0</td>\n",
       "      <td>General support</td>\n",
       "    </tr>\n",
       "    <tr>\n",
       "      <th>1032</th>\n",
       "      <td>New York Community Trust</td>\n",
       "      <td>Early Education</td>\n",
       "      <td>0.146566</td>\n",
       "      <td>5000.0</td>\n",
       "      <td>For college scholarship for graduating senior ...</td>\n",
       "    </tr>\n",
       "    <tr>\n",
       "      <th>1033</th>\n",
       "      <td>The Susan A. &amp; Donald P. Babson Charitable Fou...</td>\n",
       "      <td>Arts</td>\n",
       "      <td>0.243806</td>\n",
       "      <td>5000.0</td>\n",
       "      <td>College Quest</td>\n",
       "    </tr>\n",
       "    <tr>\n",
       "      <th>1034</th>\n",
       "      <td>New York Community Trust</td>\n",
       "      <td>School Programs</td>\n",
       "      <td>0.305390</td>\n",
       "      <td>5000.0</td>\n",
       "      <td>For general support.</td>\n",
       "    </tr>\n",
       "    <tr>\n",
       "      <th>1035</th>\n",
       "      <td>The Fred Bergfors and Margaret Sandberg Founda...</td>\n",
       "      <td>College &amp; Career Success</td>\n",
       "      <td>0.617738</td>\n",
       "      <td>5000.0</td>\n",
       "      <td>Education</td>\n",
       "    </tr>\n",
       "  </tbody>\n",
       "</table>\n",
       "<p>768 rows × 5 columns</p>\n",
       "</div>"
      ],
      "text/plain": [
       "                                             grantmaker  \\\n",
       "47                                      Ford Foundation   \n",
       "48                             Point32Health Foundation   \n",
       "49                        East Bay Community Foundation   \n",
       "50                                   Seattle Foundation   \n",
       "51                        East Bay Community Foundation   \n",
       "...                                                 ...   \n",
       "1031                      East Bay Community Foundation   \n",
       "1032                           New York Community Trust   \n",
       "1033  The Susan A. & Donald P. Babson Charitable Fou...   \n",
       "1034                           New York Community Trust   \n",
       "1035  The Fred Bergfors and Margaret Sandberg Founda...   \n",
       "\n",
       "                         topic  topic_val   amount  \\\n",
       "47         Job/Career Training   0.225796  98950.0   \n",
       "48       After School Programs   0.101558  90000.0   \n",
       "49             Early Education   0.034389  85143.0   \n",
       "50         Job/Career Training   0.004095  84000.0   \n",
       "51             Early Education   0.034389  83047.0   \n",
       "...                        ...        ...      ...   \n",
       "1031           School Programs   0.305390   5000.0   \n",
       "1032           Early Education   0.146566   5000.0   \n",
       "1033                      Arts   0.243806   5000.0   \n",
       "1034           School Programs   0.305390   5000.0   \n",
       "1035  College & Career Success   0.617738   5000.0   \n",
       "\n",
       "                                                   desc  \n",
       "47    General support for a free program that prepar...  \n",
       "48    Point32health Foundation announced today grant...  \n",
       "49                          The Mcclymonds Merit Awards  \n",
       "50    NCCP-supporting Research Informed IECMH Policies.  \n",
       "51                          The Mcclymonds Merit Awards  \n",
       "...                                                 ...  \n",
       "1031                                    General support  \n",
       "1032  For college scholarship for graduating senior ...  \n",
       "1033                                      College Quest  \n",
       "1034                               For general support.  \n",
       "1035                                          Education  \n",
       "\n",
       "[768 rows x 5 columns]"
      ]
     },
     "execution_count": 30,
     "metadata": {},
     "output_type": "execute_result"
    }
   ],
   "source": [
    "df_rec"
   ]
  },
  {
   "cell_type": "code",
   "execution_count": 31,
   "id": "8afce64c",
   "metadata": {},
   "outputs": [],
   "source": [
    "if idx_type == major_idx:\n",
    "    with open('df_rec_major.pickle', 'wb') as f:\n",
    "        pickle.dump(df_rec, f)\n",
    "    df_rec.to_csv('df_rec_major.csv')\n",
    "elif idx_type == transf_idx:\n",
    "    with open('df_rec_transf.pickle', 'wb') as f:\n",
    "        pickle.dump(df_rec, f)\n",
    "    df_rec.to_csv('df_rec_transf.csv')\n"
   ]
  },
  {
   "cell_type": "code",
   "execution_count": 32,
   "id": "3b570087",
   "metadata": {},
   "outputs": [
    {
     "data": {
      "text/plain": [
       "([0, 1, 2, 3, 4, 5, 6, 7, 8, 9],\n",
       " [Text(0, 0, ''),\n",
       "  Text(0, 0, ''),\n",
       "  Text(0, 0, ''),\n",
       "  Text(0, 0, ''),\n",
       "  Text(0, 0, ''),\n",
       "  Text(0, 0, ''),\n",
       "  Text(0, 0, ''),\n",
       "  Text(0, 0, ''),\n",
       "  Text(0, 0, ''),\n",
       "  Text(0, 0, '')])"
      ]
     },
     "execution_count": 32,
     "metadata": {},
     "output_type": "execute_result"
    },
    {
     "data": {
      "image/png": "[encoded data removed]",
      "text/plain": [
       "<Figure size 432x288 with 1 Axes>"
      ]
     },
     "metadata": {
      "needs_background": "light"
     },
     "output_type": "display_data"
    }
   ],
   "source": [
    "plt.hist(df_rec['topic'])\n",
    "plt.xticks(rotation=90)\n"
   ]
  },
  {
   "cell_type": "markdown",
   "id": "e6e09b07",
   "metadata": {},
   "source": [
    "## Recommendations / Recommender"
   ]
  },
  {
   "cell_type": "code",
   "execution_count": 33,
   "id": "e776b430",
   "metadata": {},
   "outputs": [],
   "source": [
    "with open('df_rec_major.pickle','rb') as g:\n",
    "    df_rec_maj = pickle.load(g)\n",
    "with open('df_rec_transf.pickle','rb') as g:\n",
    "    df_rec_tra = pickle.load(g)"
   ]
  },
  {
   "cell_type": "code",
   "execution_count": 34,
   "id": "971dab9e",
   "metadata": {},
   "outputs": [
    {
     "ename": "NameError",
     "evalue": "name 'does_not_exist' is not defined",
     "output_type": "error",
     "traceback": [
      "\u001b[0;31m---------------------------------------------------------------------------\u001b[0m",
      "\u001b[0;31mNameError\u001b[0m                                 Traceback (most recent call last)",
      "\u001b[0;32m/var/folders/lg/km0fh1wx2mz0g_h65yrwqwmr0000gn/T/ipykernel_52713/998093673.py\u001b[0m in \u001b[0;36m<module>\u001b[0;34m\u001b[0m\n\u001b[0;32m----> 1\u001b[0;31m \u001b[0mdoes_not_exist\u001b[0m\u001b[0;34m\u001b[0m\u001b[0;34m\u001b[0m\u001b[0m\n\u001b[0m",
      "\u001b[0;31mNameError\u001b[0m: name 'does_not_exist' is not defined"
     ]
    }
   ],
   "source": [
    "does_not_exist"
   ]
  },
  {
   "cell_type": "markdown",
   "id": "ff1c188d",
   "metadata": {},
   "source": [
    "## Topic Modeling: CorEx"
   ]
  },
  {
   "cell_type": "code",
   "execution_count": null,
   "id": "d281aebe",
   "metadata": {},
   "outputs": [],
   "source": [
    "import scipy.sparse as ss\n",
    "from corextopic import corextopic as ct"
   ]
  },
  {
   "cell_type": "code",
   "execution_count": null,
   "id": "426fc643",
   "metadata": {},
   "outputs": [],
   "source": [
    "dt.shape"
   ]
  },
  {
   "cell_type": "code",
   "execution_count": null,
   "id": "5751ed2c",
   "metadata": {},
   "outputs": [],
   "source": [
    "terms.shape"
   ]
  },
  {
   "cell_type": "code",
   "execution_count": null,
   "id": "c497afff",
   "metadata": {},
   "outputs": [],
   "source": [
    "words = terms.tolist()"
   ]
  },
  {
   "cell_type": "code",
   "execution_count": null,
   "id": "f9740527",
   "metadata": {},
   "outputs": [],
   "source": [
    "len(words)"
   ]
  },
  {
   "cell_type": "code",
   "execution_count": null,
   "id": "14c14e7d",
   "metadata": {},
   "outputs": [],
   "source": [
    "anchors = [['operation','operating','general'],\n",
    "           ['purchase','equipment'],\n",
    "           ['scholarship'],\n",
    "          ['social', 'emotional','youth','program'],\n",
    "          ['workforce', 'job', 'career','college'],\n",
    "          ['school','student','classroom']]"
   ]
  },
  {
   "cell_type": "code",
   "execution_count": null,
   "id": "05e7b9cc",
   "metadata": {},
   "outputs": [],
   "source": [
    "topic_model = ct.Corex(n_hidden = 6,\n",
    "                      words = words)"
   ]
  },
  {
   "cell_type": "code",
   "execution_count": null,
   "id": "caffe4b8",
   "metadata": {},
   "outputs": [],
   "source": [
    "topic_model.fit(dt, words = words,\n",
    "                anchors = anchors, anchor_strength = 6)"
   ]
  },
  {
   "cell_type": "code",
   "execution_count": null,
   "id": "e0800330",
   "metadata": {},
   "outputs": [],
   "source": [
    "topics = topic_model.get_topics()"
   ]
  },
  {
   "cell_type": "code",
   "execution_count": null,
   "id": "ab2f7a95",
   "metadata": {},
   "outputs": [],
   "source": [
    "topics"
   ]
  },
  {
   "cell_type": "code",
   "execution_count": null,
   "id": "f6241f96",
   "metadata": {},
   "outputs": [],
   "source": [
    "for topic_n,topic in enumerate(topics):\n",
    "    # w: word, mi: mutual information, s: sign\n",
    "    topic = [(w,mi,s) if s > 0 else ('~'+w,mi,s) for w,mi,s in topic]\n",
    "    # Unpack the info about the topic\n",
    "    words,mis,signs = zip(*topic)    \n",
    "    # Print topic\n",
    "    topic_str = str(topic_n+1)+': '+', '.join(words)\n",
    "    print(topic_str)"
   ]
  },
  {
   "cell_type": "markdown",
   "id": "e0f01217",
   "metadata": {},
   "source": [
    "## Scattertext"
   ]
  },
  {
   "cell_type": "code",
   "execution_count": null,
   "id": "1645c9d0",
   "metadata": {},
   "outputs": [],
   "source": [
    "#create scattertext to do intial data exploration\n",
    "import scattertext as st\n",
    "import spacy\n",
    "nlp = spacy.load('en_core_web_sm')"
   ]
  },
  {
   "cell_type": "code",
   "execution_count": null,
   "id": "353fc8e5",
   "metadata": {
    "scrolled": true
   },
   "outputs": [],
   "source": [
    "corpus = st.CorpusFromPandas(df,\n",
    "                            category_col = 'gift_type',\n",
    "                            text_col = 'lemma', #choose 'lemma', 'n_gram', or 'ent'\n",
    "                            nlp = nlp).build()"
   ]
  },
  {
   "cell_type": "code",
   "execution_count": null,
   "id": "1c10007b",
   "metadata": {},
   "outputs": [],
   "source": [
    "html = st.produce_scattertext_explorer(corpus,\n",
    "             category='transformative',\n",
    "             category_name='Transformative',\n",
    "             not_category_name='Major',\n",
    "             width_in_pixels=1000,\n",
    "             metadata=df['recipient'])"
   ]
  },
  {
   "cell_type": "code",
   "execution_count": null,
   "id": "ce518b93",
   "metadata": {},
   "outputs": [],
   "source": [
    "open('scatterplots/lemma.html','wb').write(html.encode('utf-8'))"
   ]
  },
  {
   "cell_type": "markdown",
   "id": "b2e81fd4",
   "metadata": {},
   "source": [
    "## K Means Clustering"
   ]
  },
  {
   "cell_type": "code",
   "execution_count": null,
   "id": "1a2c278d",
   "metadata": {},
   "outputs": [],
   "source": [
    "from sklearn.cluster import KMeans\n",
    "import seaborn as sns\n",
    "import matplotlib.pyplot as plt"
   ]
  },
  {
   "cell_type": "code",
   "execution_count": null,
   "id": "a05b1a3f",
   "metadata": {},
   "outputs": [],
   "source": [
    "inertia = []\n",
    "for num_clusters in range(1,13):\n",
    "    km = KMeans(n_clusters = num_clusters)\n",
    "    km.fit(dt)\n",
    "    inertia.append(km.inertia_)\n",
    "inertia"
   ]
  },
  {
   "cell_type": "code",
   "execution_count": null,
   "id": "059a8304",
   "metadata": {},
   "outputs": [],
   "source": [
    "plt.plot(range(1,len(inertia) +1), inertia)"
   ]
  },
  {
   "cell_type": "code",
   "execution_count": null,
   "id": "54bc2d05",
   "metadata": {},
   "outputs": [],
   "source": [
    "clusters = 2\n",
    "\n",
    "km = KMeans(n_clusters = clusters, random_state = 11)\n",
    "km.fit(dt)"
   ]
  },
  {
   "cell_type": "code",
   "execution_count": null,
   "id": "ecc4a5cd",
   "metadata": {},
   "outputs": [],
   "source": [
    "np.unique(km.labels_, return_counts = True)"
   ]
  },
  {
   "cell_type": "code",
   "execution_count": null,
   "id": "77b4de50",
   "metadata": {},
   "outputs": [],
   "source": [
    "sizes = []\n",
    "for i in range(clusters):\n",
    "              sizes.append({'cluster': i, 'size':\n",
    "                           np.sum(km.labels_ == i)})\n",
    "pd.DataFrame(sizes).set_index('cluster').plot.bar(figsize = (16,9))"
   ]
  },
  {
   "cell_type": "code",
   "execution_count": null,
   "id": "c04964fa",
   "metadata": {},
   "outputs": [],
   "source": [
    "plt.scatter()"
   ]
  }
 ],
 "metadata": {
  "kernelspec": {
   "display_name": "Python 3 (unsupervised)",
   "language": "python",
   "name": "unsupervised"
  },
  "language_info": {
   "codemirror_mode": {
    "name": "ipython",
    "version": 3
   },
   "file_extension": ".py",
   "mimetype": "text/x-python",
   "name": "python",
   "nbconvert_exporter": "python",
   "pygments_lexer": "ipython3",
   "version": "3.9.7"
  }
 },
 "nbformat": 4,
 "nbformat_minor": 5
}
