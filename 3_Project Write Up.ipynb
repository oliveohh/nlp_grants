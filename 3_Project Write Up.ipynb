{
 "cells": [
  {
   "cell_type": "markdown",
   "id": "a47ca1a5",
   "metadata": {},
   "source": [
    "## NLP: Exploring Grant Opportunities and Trends for buildOn\n",
    "By: Olivia Offutt\n",
    "\n",
    "### LINKS\n",
    "\n",
    "Github: https://github.com/oliveohh/nlp_grants\n",
    "\n",
    "### ABSTRACT\n",
    "\n",
    "I work for a nonprofit organization (buildOn) that seeks to increase the number of major grants (\\\\$10k+) and transformative grants ($100k+) our organization applies for and wins. Using a database of grants made in 2021 and 2022 (downloaded from the Candid Foundation Directory), I used topic modeling algorithms to identify giving trends, and explore differences among grants of different amounts. This information can inform our fundraising team’s grant writing strategies. \n",
    "\n",
    "Utilizing Candid Foundation Directory's grant database, I pulled every grant authorized from 2021-2022 under the education category where the recipient was located in one of our program locations. Utilizing NMF topic modeling algorithms, I identified 10 topics among the major and transformational grant corpus showing more tactical funding (operational expenses) for major grants and more topical funding (programs tackling issues like early childhood education) for transformational grants. I further filtered these datasets to identify topics relevent to buildOn, and then identified 10 total recommended grantmakers for prospecting based on their TFIDF topic scores. "
   ]
  },
  {
   "cell_type": "markdown",
   "id": "ec83abf0",
   "metadata": {},
   "source": [
    "### DATA\n",
    "- Source: Candid Foundation Directory website (subscription login required)\n",
    "- n = 1,038\n",
    "- Unit of Analysis: Individual grant\n",
    "- Filter: All grants autherized 2021-2022 with recipients in buildon program areas in the education category\n",
    "- Features:\n",
    "    - Grantmaker / Grantee\n",
    "    - Amount\n",
    "    - Year\n",
    "    - Description"
   ]
  },
  {
   "cell_type": "markdown",
   "id": "a37a9638",
   "metadata": {},
   "source": [
    "### TOOLS\n",
    "- Data Management: Pickle\n",
    "- Cleaning and Analysis: Pandas, Numpy, Google Sheets\n",
    "- Data Visualization: Matplotlib, Google Sheets\n",
    "- Text Preprocessing: spaCy\n",
    "- Doc-Term Matrix vectorization: TFIDF (sklearn)\n",
    "- Topic Modeling: scattertext, NMF (sklearn)"
   ]
  },
  {
   "cell_type": "markdown",
   "id": "98e75f7a",
   "metadata": {},
   "source": [
    "### ALGORITHMS\n",
    "- **Text Preprocessing:** \n",
    "    - Tokenization w/ spaCy\n",
    "    - lemmetization, n_gram, entity extraction w/ spaCy \n",
    "- **Doc-Term Matrix Vectorization:** \n",
    "    - TFIDF vectorization of lemmas, n_grams, and entities\n",
    "- **Topic Modeling**\n",
    "    - Fit dt data to NMF topic modeler to obtain WxH datasets \n",
    "        - Experimented with several variations of text preprocessed data and several different topic numbers\n",
    "        - Experimented with other topic modelers (CorEx) / clustering models (KMeans)\n",
    "        - Final model used NMF, 10 topics, lemmas only, with TFIDF(min_df = 2)\n",
    "    - Used scattertext to explore data differentiated between major and transformational grants\n",
    "    "
   ]
  },
  {
   "cell_type": "markdown",
   "id": "42655bac",
   "metadata": {},
   "source": [
    "### COMMUNICATION\n",
    "- A slide deck and presentation showing key findings."
   ]
  },
  {
   "cell_type": "markdown",
   "id": "c3525c15",
   "metadata": {},
   "source": []
  }
 ],
 "metadata": {
  "kernelspec": {
   "display_name": "Python 3 (unsupervised)",
   "language": "python",
   "name": "unsupervised"
  },
  "language_info": {
   "codemirror_mode": {
    "name": "ipython",
    "version": 3
   },
   "file_extension": ".py",
   "mimetype": "text/x-python",
   "name": "python",
   "nbconvert_exporter": "python",
   "pygments_lexer": "ipython3",
   "version": "3.9.7"
  }
 },
 "nbformat": 4,
 "nbformat_minor": 5
}
